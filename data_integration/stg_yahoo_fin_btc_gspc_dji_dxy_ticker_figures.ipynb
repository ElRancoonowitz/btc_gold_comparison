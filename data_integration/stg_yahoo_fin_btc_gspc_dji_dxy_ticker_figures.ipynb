{
 "cells": [
  {
   "cell_type": "markdown",
   "id": "d4bcc2be",
   "metadata": {},
   "source": [
    "# Staging BTC ETF's & Financial Benchmark Data"
   ]
  },
  {
   "cell_type": "markdown",
   "id": "b6d03c31",
   "metadata": {},
   "source": [
    "### Script that stages BTC ETF's and Financial Benchmark data tracking figures from Yahoo Finance and writes the result to a SQL Server relational database. "
   ]
  },
  {
   "cell_type": "code",
   "execution_count": 1,
   "id": "372cca90",
   "metadata": {},
   "outputs": [],
   "source": [
    "import pandas as pd\n",
    "from bs4 import BeautifulSoup\n",
    "import requests \n",
    "import yfinance as yf\n",
    "from datetime import datetime\n",
    "import matplotlib as plt\n",
    "from typing import List\n",
    "import sqlalchemy\n"
   ]
  },
  {
   "cell_type": "markdown",
   "id": "e8d81113",
   "metadata": {},
   "source": [
    "### Function to retrieve BTC ETF ticker and added Benchmark data"
   ]
  },
  {
   "cell_type": "code",
   "execution_count": 2,
   "id": "bc6b83b5",
   "metadata": {},
   "outputs": [],
   "source": [
    "# Get the concerning btc tickers using farside.co.uk as source\n",
    "# The source is a static website which we scrape using BeautifulSoup\n",
    "def get_tickers(source_url: str, list_extension: List) -> List:\n",
    "    \"\"\"\n",
    "        This function scrapes the concerning source website using BeautifulSoup \n",
    "        and looks for tickers in an expected website structure and returns these \n",
    "        as a List object.\n",
    "        \n",
    "        parameters: \n",
    "            -source_url: str -> source url to scrape the ticker values from https://farside.co.uk/?p=997\n",
    "            -list_extension : 3 financial industry Benchmark indexes for comparisment\n",
    "        \n",
    "        return: List -> list of tickers\n",
    "    \"\"\"\n",
    "    l_tickers = []\n",
    "    r = requests.get(source_url)\n",
    "    soup = BeautifulSoup(r.text, 'html.parser')\n",
    "\n",
    "    etf_source_table = soup.find_all('span', class_='tabletext')\n",
    "    exclude_columns = ['Date'] \n",
    "    \n",
    "    # parse source table\n",
    "    for etf in etf_source_table:\n",
    "        ticker = etf.get_text()\n",
    "        \n",
    "        if ticker not in exclude_columns:\n",
    "            l_tickers.append(ticker)  \n",
    "        if ticker == 'GBTC':  \n",
    "            break\n",
    "    \n",
    "    for extension in list_extension:\n",
    "        l_tickers.append(extension)\n",
    "    \n",
    "    return l_tickers "
   ]
  },
  {
   "cell_type": "markdown",
   "id": "b3d0e329",
   "metadata": {},
   "source": [
    "### Function to retrieve ticker Data from Yahoo finance"
   ]
  },
  {
   "cell_type": "code",
   "execution_count": 3,
   "id": "f8bca9f4",
   "metadata": {},
   "outputs": [],
   "source": [
    "def get_ticker_values(tickers: List, start_date: str, end_date: str) -> pd.DataFrame:\n",
    "    \"\"\"\n",
    "        This function downloads the concerning ticker values from Yahoo finance\n",
    "        and returns this result as a Pandas Dataframe.\n",
    "        \n",
    "        parameters: \n",
    "            -tickers: List object with the incoming ticker values you want values for.\n",
    "            -start_date: Date as string as start date to use as date range towards Yahoo finance.\n",
    "            -end_date: Date as string as end date to use as date range towards Yahoo finance.\n",
    "        \n",
    "        return:\n",
    "            -pd.Dataframe with the concerning ticker values.\n",
    "    \"\"\"\n",
    "    \n",
    "    # Dictionary to hold data\n",
    "    data_dict = {\n",
    "        'Date': [], \n",
    "        'Ticker': [],\n",
    "        'Open': [],\n",
    "        'Close': [],\n",
    "        'High': [], \n",
    "        'Low': [],\n",
    "        'Volume': []\n",
    "    } # Add more metrics as needed\n",
    "\n",
    "    # Loop through each ticker, download the data, and fill the dictionary\n",
    "    for ticker in tickers:\n",
    "        data = yf.download(ticker, start=start_date, end=end_date)\n",
    "        for date, row in data.iterrows():\n",
    "            data_dict['Date'].append(date)\n",
    "            data_dict['Ticker'].append(ticker)\n",
    "            data_dict['Open'].append(row['Open'])\n",
    "            data_dict['Close'].append(row['Close']) # Assume 'Close' is one of the metrics you're interested in\n",
    "            data_dict['High'].append(row['High'])\n",
    "            data_dict['Low'].append(row['Low'])\n",
    "            data_dict['Volume'].append(row['Volume']) # Same for 'Volume'\n",
    "\n",
    "    # Create a new DataFrame from the dictionary\n",
    "    return pd.DataFrame(data_dict)\n"
   ]
  },
  {
   "cell_type": "markdown",
   "id": "4797b04f",
   "metadata": {},
   "source": [
    "### Funcion to write Panda data frame to SQL server"
   ]
  },
  {
   "cell_type": "code",
   "execution_count": 4,
   "id": "8f34c4d6",
   "metadata": {},
   "outputs": [],
   "source": [
    "def write_df_to_rds(df: pd.DataFrame, conn, schema, table_name):\n",
    "    \"\"\"\n",
    "        This function writes an incoming Pandas Dataframe to the RDS Database. \n",
    "        \n",
    "        parameters: \n",
    "            -df: incoming Pandas Dataframe\n",
    "            -conn: incoming SQL Alchemy engine object \n",
    "            -schema: table schema within the RDS database\n",
    "            -table_name: destination table name within the RDS database\n",
    "    \"\"\"\n",
    "    \n",
    "    df.to_sql(\n",
    "        name=table_name, \n",
    "        con=conn, \n",
    "        schema=schema,\n",
    "        if_exists='replace'\n",
    "    )"
   ]
  },
  {
   "cell_type": "code",
   "execution_count": 5,
   "id": "f21e9bcf",
   "metadata": {},
   "outputs": [],
   "source": [
    "# Define static RDS connection credentials\n",
    "servername = 'NB-SMET-5CD3102PV6'\n",
    "dbname = 'syntra_dwh'\n",
    "conn = sqlalchemy.create_engine(\n",
    "    'mssql+pyodbc://@' + servername + '/' + dbname + '?trusted_connection=yes&driver=ODBC+Driver+17+for+SQL+Server'\n",
    ") "
   ]
  },
  {
   "cell_type": "code",
   "execution_count": 6,
   "id": "7b2a491b",
   "metadata": {},
   "outputs": [
    {
     "name": "stderr",
     "output_type": "stream",
     "text": [
      "[*********************100%%**********************]  1 of 1 completed\n",
      "[*********************100%%**********************]  1 of 1 completed\n",
      "[*********************100%%**********************]  1 of 1 completed\n",
      "[*********************100%%**********************]  1 of 1 completed\n",
      "[*********************100%%**********************]  1 of 1 completed\n",
      "[*********************100%%**********************]  1 of 1 completed\n",
      "[*********************100%%**********************]  1 of 1 completed\n",
      "[*********************100%%**********************]  1 of 1 completed\n",
      "[*********************100%%**********************]  1 of 1 completed\n",
      "[*********************100%%**********************]  1 of 1 completed\n",
      "[*********************100%%**********************]  1 of 1 completed\n",
      "[*********************100%%**********************]  1 of 1 completed\n",
      "[*********************100%%**********************]  1 of 1 completed\n",
      "[*********************100%%**********************]  1 of 1 completed\n"
     ]
    }
   ],
   "source": [
    "write_df_to_rds(\n",
    "    get_ticker_values(\n",
    "        get_tickers(\n",
    "            \"https://farside.co.uk/?p=997\",\n",
    "            ['^GSPC', '^DJI', 'DX-Y.NYB', 'BTC-USD']\n",
    "        ),\n",
    "        '2004-11-18',\n",
    "        '2024-12-31'\n",
    "    ),\n",
    "    conn,\n",
    "    'staging',\n",
    "    'stg_yahoo_fin_btc_gspc_dji_dxy_ticker_figures'\n",
    ")"
   ]
  }
 ],
 "metadata": {
  "kernelspec": {
   "display_name": "Python 3 (ipykernel)",
   "language": "python",
   "name": "python3"
  },
  "language_info": {
   "codemirror_mode": {
    "name": "ipython",
    "version": 3
   },
   "file_extension": ".py",
   "mimetype": "text/x-python",
   "name": "python",
   "nbconvert_exporter": "python",
   "pygments_lexer": "ipython3",
   "version": "3.11.5"
  }
 },
 "nbformat": 4,
 "nbformat_minor": 5
}
