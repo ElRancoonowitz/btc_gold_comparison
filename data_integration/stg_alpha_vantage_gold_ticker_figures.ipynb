{
 "cells": [
  {
   "cell_type": "markdown",
   "id": "fa097e1c",
   "metadata": {},
   "source": [
    "# Staging Gold tickers data"
   ]
  },
  {
   "cell_type": "markdown",
   "id": "39863f93",
   "metadata": {},
   "source": [
    "#### Script that combines beautyfull soup to extract tickers from a static website and the api service from Alpha vantage to load in data.\n",
    "#### Data will be written to a pandas data frame and transfered in to Sequel Server Management Service."
   ]
  },
  {
   "cell_type": "markdown",
   "id": "fefd2582",
   "metadata": {},
   "source": [
    "### Load in necessary libraries"
   ]
  },
  {
   "cell_type": "code",
   "execution_count": 1,
   "id": "dd24c822",
   "metadata": {},
   "outputs": [],
   "source": [
    "import pandas as pd\n",
    "from bs4 import BeautifulSoup\n",
    "import requests \n",
    "import yfinance as yf\n",
    "from datetime import datetime\n",
    "import matplotlib as plt\n",
    "from typing import List\n",
    "import sqlalchemy\n",
    "from io import StringIO"
   ]
  },
  {
   "cell_type": "markdown",
   "id": "df0d0f66",
   "metadata": {},
   "source": [
    "### Function to retrieve gold tickers"
   ]
  },
  {
   "cell_type": "code",
   "execution_count": 2,
   "id": "d34b000f",
   "metadata": {},
   "outputs": [],
   "source": [
    "# Get the concerning gold tickers using https://etfdb.com/etfs/commodity/gold/ as a source\n",
    "# The source is a static website which we scrape using BeautifulSoup\n",
    "def get_gold_tickers(source_url: str) -> List:\n",
    "    \"\"\"\n",
    "        This function scrapes the concerning source website using BeautifulSoup \n",
    "        and looks for tickers in an expected website structure and returns these \n",
    "        as a List object.\n",
    "        \n",
    "        parameters: \n",
    "            -source_url: str -> source url to scrape the ticker values from  \n",
    "        \n",
    "        return: List -> list of gold tickers\n",
    "    \"\"\"\n",
    "    l_tickers = []\n",
    "    r = requests.get(source_url)\n",
    "    soup = BeautifulSoup(r.text, 'html.parser')\n",
    "\n",
    "    etf_source_table = soup.find_all('tr')\n",
    "    \n",
    "    # parse source table\n",
    "    for tr in etf_source_table:\n",
    "        a_tag = tr.find('a')\n",
    "        if a_tag:\n",
    "            ticker = a_tag.text\n",
    "            if ticker == 'Click Here to Join to ETF Database Pro for 14 Days Free, Export This Data & So Much More':\n",
    "                break  \n",
    "            l_tickers.append(ticker) \n",
    "\n",
    "    return l_tickers "
   ]
  },
  {
   "cell_type": "markdown",
   "id": "cc5c1c94",
   "metadata": {},
   "source": [
    "### Function to retrieve gold ticker data from Alpha Vantage"
   ]
  },
  {
   "cell_type": "code",
   "execution_count": 3,
   "id": "c34dbf1a",
   "metadata": {},
   "outputs": [],
   "source": [
    "def get_gold_ticker_values(tickers: List, api_key: str):\n",
    "    \"\"\"\n",
    "        This function downloads the concerning gold ticker values from Alpha vantage\n",
    "        and returns this result as a Pandas Dataframe.\n",
    "        \n",
    "        parameters: \n",
    "            -datatype: CSV format.\n",
    "            -apikey : API key to connect to Alpha vantage, take notice on only 25 request a day.\n",
    "            -outputsize: full is nescesary to retrieve maximum history of ticker data, aprox. 20+ years depending on ticker.\n",
    "            -symbol: ticker symbol according to Alpha vantage.\n",
    "        \n",
    "        return:\n",
    "            -a Pandas DataFrame\n",
    "    \"\"\"\n",
    "    \n",
    "    df = pd.DataFrame()\n",
    "    \n",
    "    params = {\n",
    "        'datatype' : 'csv',\n",
    "        'apikey' : api_key,\n",
    "        'outputsize' : 'full'\n",
    "    }\n",
    "    \n",
    "    for ticker in tickers:\n",
    "        params['symbol'] = ticker\n",
    "        url = 'https://www.alphavantage.co/query?function=TIME_SERIES_DAILY'\n",
    "        \n",
    "        r = requests.get(\n",
    "            url=url,\n",
    "            params=params\n",
    "        )\n",
    "        \n",
    "        df_tmp = pd.read_csv(StringIO(r.text))\n",
    "        df_tmp['ticker'] = ticker\n",
    "        \n",
    "        df = pd.concat([df, df_tmp], ignore_index=True)\n",
    "    \n",
    "    return df"
   ]
  },
  {
   "cell_type": "markdown",
   "id": "971e0596",
   "metadata": {},
   "source": [
    "### Function to write Panda data frame to SQL database"
   ]
  },
  {
   "cell_type": "code",
   "execution_count": 7,
   "id": "de08354e",
   "metadata": {},
   "outputs": [],
   "source": [
    "def write_df_to_rds(df: pd.DataFrame, conn, schema, table_name):\n",
    "    \"\"\"\n",
    "        This function writes an incoming Pandas Dataframe to the RDS Database. \n",
    "        \n",
    "        parameters: \n",
    "            -df: incoming Pandas Dataframe\n",
    "            -conn: incoming SQL Alchemy engine object \n",
    "            -schema: table schema within the RDS database\n",
    "            -table_name: destination table name within the RDS database\n",
    "    \"\"\"\n",
    "    \n",
    "    df.to_sql(\n",
    "        name=table_name, \n",
    "        con=conn, \n",
    "        schema=schema,\n",
    "        if_exists='replace'\n",
    "    )"
   ]
  },
  {
   "cell_type": "code",
   "execution_count": 5,
   "id": "19e68630",
   "metadata": {},
   "outputs": [],
   "source": [
    "# Api key for Alpha Vantage\n",
    "\"\"\"\n",
    "api_key is only valid for 25 request a day due to ip limit, if necessary to run the script more, change ip.\n",
    "\"\"\"\n",
    "\n",
    "api_key = 'MZ2H3LL81V48N7OP'\n",
    "\n",
    "df = get_gold_ticker_values(\n",
    "    get_gold_tickers('https://etfdb.com/etfs/commodity/gold/'),\n",
    "    api_key\n",
    ")\n"
   ]
  },
  {
   "cell_type": "code",
   "execution_count": 8,
   "id": "ae326c47",
   "metadata": {},
   "outputs": [],
   "source": [
    "# Define static RDS connection credentials\n",
    "servername = 'NB-SMET-5CD3102PV6'\n",
    "dbname = 'syntra_dwh'\n",
    "conn = sqlalchemy.create_engine(\n",
    "    'mssql+pyodbc://@' + servername + '/' + dbname + '?trusted_connection=yes&driver=ODBC+Driver+17+for+SQL+Server'\n",
    ") \n",
    "\n",
    "write_df_to_rds(\n",
    "    df,\n",
    "    conn,\n",
    "    'staging',\n",
    "    'stg_alpha_vantage_gold_ticker_figures'\n",
    ")"
   ]
  }
 ],
 "metadata": {
  "kernelspec": {
   "display_name": "Python 3 (ipykernel)",
   "language": "python",
   "name": "python3"
  },
  "language_info": {
   "codemirror_mode": {
    "name": "ipython",
    "version": 3
   },
   "file_extension": ".py",
   "mimetype": "text/x-python",
   "name": "python",
   "nbconvert_exporter": "python",
   "pygments_lexer": "ipython3",
   "version": "3.11.5"
  }
 },
 "nbformat": 4,
 "nbformat_minor": 5
}
