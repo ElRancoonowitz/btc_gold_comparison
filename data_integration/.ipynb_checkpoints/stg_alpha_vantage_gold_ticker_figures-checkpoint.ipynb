{
 "cells": [
  {
   "cell_type": "code",
   "execution_count": 11,
   "id": "310436d0",
   "metadata": {},
   "outputs": [],
   "source": [
    "import pandas as pd\n",
    "from bs4 import BeautifulSoup\n",
    "import requests \n",
    "import yfinance as yf\n",
    "from datetime import datetime\n",
    "import matplotlib as plt\n",
    "from typing import List\n",
    "import sqlalchemy\n",
    "from io import StringIO"
   ]
  },
  {
   "cell_type": "code",
   "execution_count": 8,
   "id": "8a8b1ad9",
   "metadata": {},
   "outputs": [],
   "source": [
    "# Get the concerning btc tickers using farside.co.uk as source\n",
    "# The source is a static website which we scrape using BeautifulSoup\n",
    "def get_gold_tickers(source_url: str) -> List:\n",
    "    \"\"\"\n",
    "        This function scrapes the concerning source website using BeautifulSoup \n",
    "        and looks for tickers in an expected website structure and returns these \n",
    "        as a List object.\n",
    "        \n",
    "        parameters: \n",
    "            -source_url: str -> source url to scrape the ticker values from  \n",
    "        \n",
    "        return: List -> list of gold tickers\n",
    "    \"\"\"\n",
    "    l_tickers = []\n",
    "    r = requests.get(source_url)\n",
    "    soup = BeautifulSoup(r.text, 'html.parser')\n",
    "\n",
    "    etf_source_table = soup.find_all('tr')\n",
    "    \n",
    "    # parse source table\n",
    "    for tr in etf_source_table:\n",
    "        a_tag = tr.find('a')\n",
    "        if a_tag:\n",
    "            ticker = a_tag.text\n",
    "            if ticker == 'Click Here to Join to ETF Database Pro for 14 Days Free, Export This Data & So Much More':\n",
    "                break  \n",
    "            l_tickers.append(ticker) \n",
    "\n",
    "    return l_tickers "
   ]
  },
  {
   "cell_type": "code",
   "execution_count": 19,
   "id": "75425635",
   "metadata": {},
   "outputs": [],
   "source": [
    "def get_gold_ticker_values(tickers: List, api_key: str):\n",
    "    \"\"\"\n",
    "        This function downloads the concerning btc ticker values from Yahoo finance\n",
    "        and returns this result as a Pandas Dataframe.\n",
    "        \n",
    "        parameters: \n",
    "            -tickers: List object with the incoming ticker values you want values for.\n",
    "            -start_date: Date as string as start date to use as date range towards Yahoo finance.\n",
    "            -end_date: Date as string as end date to use as date range towards Yahoo finance.\n",
    "        \n",
    "        return:\n",
    "            -a Pandas DataFrame\n",
    "    \"\"\"\n",
    "    \n",
    "    df = pd.DataFrame()\n",
    "    \n",
    "    params = {\n",
    "        'datatype' : 'csv',\n",
    "        'apikey' : api_key,\n",
    "        'ouputsize' : 'full'\n",
    "    }\n",
    "    \n",
    "    for ticker in tickers:\n",
    "        params['symbol'] = ticker\n",
    "        url = 'https://www.alphavantage.co/query?function=TIME_SERIES_DAILY'\n",
    "        \n",
    "        r = requests.get(\n",
    "            url=url,\n",
    "            params=params\n",
    "        )\n",
    "        \n",
    "        df_tmp = pd.read_csv(StringIO(r.text))\n",
    "        df_tmp['ticker'] = ticker\n",
    "        \n",
    "        df = pd.concat([df, df_tmp], ignore_index=True)\n",
    "    \n",
    "    return df"
   ]
  },
  {
   "cell_type": "code",
   "execution_count": null,
   "id": "b3618a9b",
   "metadata": {},
   "outputs": [],
   "source": [
    "def write_df_to_rds(df: pd.DataFrame, conn, schema, table_name):\n",
    "    \"\"\"\n",
    "        This function writes an incoming Pandas Dataframe to the RDS Database. \n",
    "        \n",
    "        parameters: \n",
    "            -df: incoming Pandas Dataframe\n",
    "            -conn: incoming SQL Alchemy engine object \n",
    "            -schema: table schema within the RDS database\n",
    "            -table_name: destination table name within the RDS database\n",
    "    \"\"\"\n",
    "    \n",
    "    df.to_sql(\n",
    "        name=table_name, \n",
    "        con=conn, \n",
    "        schema=schema\n",
    "    )"
   ]
  },
  {
   "cell_type": "code",
   "execution_count": 20,
   "id": "647fede2",
   "metadata": {},
   "outputs": [],
   "source": [
    "api_key = 'KQK2683ZQHTRODHS'\n",
    "\n",
    "df = get_gold_ticker_values(\n",
    "    get_gold_tickers('https://etfdb.com/etfs/commodity/gold/'),\n",
    "    api_key\n",
    ")"
   ]
  },
  {
   "cell_type": "code",
   "execution_count": 23,
   "id": "b84fbf20",
   "metadata": {},
   "outputs": [
    {
     "data": {
      "text/plain": [
       "timestamp     object\n",
       "open         float64\n",
       "high         float64\n",
       "low          float64\n",
       "close        float64\n",
       "volume       float64\n",
       "ticker        object\n",
       "{             object\n",
       "dtype: object"
      ]
     },
     "execution_count": 23,
     "metadata": {},
     "output_type": "execute_result"
    }
   ],
   "source": []
  }
 ],
 "metadata": {
  "kernelspec": {
   "display_name": "Python 3 (ipykernel)",
   "language": "python",
   "name": "python3"
  },
  "language_info": {
   "codemirror_mode": {
    "name": "ipython",
    "version": 3
   },
   "file_extension": ".py",
   "mimetype": "text/x-python",
   "name": "python",
   "nbconvert_exporter": "python",
   "pygments_lexer": "ipython3",
   "version": "3.11.5"
  }
 },
 "nbformat": 4,
 "nbformat_minor": 5
}
