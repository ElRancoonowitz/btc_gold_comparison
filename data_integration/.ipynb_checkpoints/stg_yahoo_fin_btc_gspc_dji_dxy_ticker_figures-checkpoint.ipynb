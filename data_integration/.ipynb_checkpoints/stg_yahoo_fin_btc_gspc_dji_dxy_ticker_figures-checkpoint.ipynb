{
 "cells": [
  {
   "cell_type": "markdown",
   "id": "256f848b",
   "metadata": {},
   "source": [
    "Job that stages BTC tracking figures from Yahoo Finance and writes the result to a SQL Server relational database. "
   ]
  },
  {
   "cell_type": "code",
   "execution_count": 21,
   "id": "372cca90",
   "metadata": {},
   "outputs": [],
   "source": [
    "import pandas as pd\n",
    "from bs4 import BeautifulSoup\n",
    "import requests \n",
    "import yfinance as yf\n",
    "from datetime import datetime\n",
    "import matplotlib as plt\n",
    "from typing import List\n",
    "import sqlalchemy\n"
   ]
  },
  {
   "cell_type": "code",
   "execution_count": 11,
   "id": "8e60d3d7",
   "metadata": {},
   "outputs": [
    {
     "data": {
      "text/plain": [
       "['IBIT',\n",
       " 'FBTC',\n",
       " 'BITB',\n",
       " 'ARKB',\n",
       " 'BTCO',\n",
       " 'EZBC',\n",
       " 'BRRR',\n",
       " 'HODL',\n",
       " 'BTCW',\n",
       " 'GBTC']"
      ]
     },
     "execution_count": 11,
     "metadata": {},
     "output_type": "execute_result"
    }
   ],
   "source": [
    "# Get the concerning btc tickers using farside.co.uk as source\n",
    "# The source is a static website which we scrape using BeautifulSoup\n",
    "def get_btc_tickers(source_url: str) -> List:\n",
    "    \"\"\"\n",
    "        This function scrapes the concerning source website using BeautifulSoup \n",
    "        and looks for tickers in an expected website structure and returns these \n",
    "        as a List object.\n",
    "        \n",
    "        parameters: \n",
    "            -source_url: str -> source url to scrape the ticker values from  \n",
    "        \n",
    "        return: List -> list of btc tickers\n",
    "    \"\"\"\n",
    "    l_tickers = []\n",
    "    r = requests.get(source_url)\n",
    "    soup = BeautifulSoup(r.text, 'html.parser')\n",
    "\n",
    "    etf_source_table = soup.find_all('span', class_='tabletext')\n",
    "    exclude_columns = ['Date'] \n",
    "    \n",
    "    # parse source table\n",
    "    for etf in etf_source_table:\n",
    "        ticker = etf.get_text()\n",
    "        \n",
    "        if ticker not in exclude_columns:\n",
    "            l_tickers.append(ticker)  \n",
    "        if ticker == 'GBTC':  \n",
    "            break \n",
    "        \n",
    "    return l_tickers "
   ]
  },
  {
   "cell_type": "code",
   "execution_count": 32,
   "id": "f29ec3b2",
   "metadata": {},
   "outputs": [],
   "source": [
    "def get_btc_ticker_values(tickers: List, start_date: str, end_date: str) -> pd.DataFrame:\n",
    "    \"\"\"\n",
    "        This function downloads the concerning btc ticker values from Yahoo finance\n",
    "        and returns this result as a Pandas Dataframe.\n",
    "        \n",
    "        parameters: \n",
    "            -tickers: List object with the incoming ticker values you want values for.\n",
    "            -start_date: Date as string as start date to use as date range towards Yahoo finance.\n",
    "            -end_date: Date as string as end date to use as date range towards Yahoo finance.\n",
    "        \n",
    "        return:\n",
    "            -pd.Dataframe with the concerning ticker values.\n",
    "    \"\"\"\n",
    "    \n",
    "    # Dictionary to hold data\n",
    "    data_dict = {'Date': [], 'Ticker': [], 'Close': [], 'Volume': []} # Add more metrics as needed\n",
    "\n",
    "    # Loop through each ticker, download the data, and fill the dictionary\n",
    "    for ticker in tickers:\n",
    "        data = yf.download(ticker, start=start_date, end=end_date)\n",
    "        for date, row in data.iterrows():\n",
    "            data_dict['Date'].append(date)\n",
    "            data_dict['Ticker'].append(ticker)\n",
    "            data_dict['Close'].append(row['Close']) # Assume 'Close' is one of the metrics you're interested in\n",
    "            data_dict['Volume'].append(row['Volume']) # Same for 'Volume'\n",
    "\n",
    "    # Create a new DataFrame from the dictionary\n",
    "    return pd.DataFrame(data_dict)\n"
   ]
  },
  {
   "cell_type": "code",
   "execution_count": 33,
   "id": "f33de944",
   "metadata": {},
   "outputs": [],
   "source": [
    "def write_df_to_rds(df: pd.DataFrame, conn, schema, table_name):\n",
    "    \"\"\"\n",
    "        This function writes an incoming Pandas Dataframe to the RDS Database. \n",
    "        \n",
    "        parameters: \n",
    "            -df: incoming Pandas Dataframe\n",
    "            -conn: incoming SQL Alchemy engine object \n",
    "            -schema: table schema within the RDS database\n",
    "            -table_name: destination table name within the RDS database\n",
    "    \"\"\"\n",
    "    \n",
    "    df.to_sql(\n",
    "        name=table_name, \n",
    "        con=conn, \n",
    "        schema=schema\n",
    "    )"
   ]
  },
  {
   "cell_type": "code",
   "execution_count": 43,
   "id": "0eec0619",
   "metadata": {},
   "outputs": [],
   "source": [
    "# Define static RDS connection credentials\n",
    "servername = 'NB-SMET-5CD3102PV6'\n",
    "dbname = 'syntra_dwh'\n",
    "conn = sqlalchemy.create_engine(\n",
    "    'mssql+pyodbc://@' + servername + '/' + dbname + '?trusted_connection=yes&driver=ODBC+Driver+17+for+SQL+Server'\n",
    ") "
   ]
  },
  {
   "cell_type": "code",
   "execution_count": 44,
   "id": "f310dc78",
   "metadata": {},
   "outputs": [
    {
     "name": "stderr",
     "output_type": "stream",
     "text": [
      "[*********************100%%**********************]  1 of 1 completed\n",
      "[*********************100%%**********************]  1 of 1 completed\n",
      "[*********************100%%**********************]  1 of 1 completed\n",
      "[*********************100%%**********************]  1 of 1 completed\n",
      "[*********************100%%**********************]  1 of 1 completed\n",
      "[*********************100%%**********************]  1 of 1 completed\n",
      "[*********************100%%**********************]  1 of 1 completed\n",
      "[*********************100%%**********************]  1 of 1 completed\n",
      "[*********************100%%**********************]  1 of 1 completed\n",
      "[*********************100%%**********************]  1 of 1 completed\n"
     ]
    }
   ],
   "source": [
    "write_df_to_rds(\n",
    "    get_btc_ticker_values(\n",
    "        get_btc_tickers(\"https://farside.co.uk/?p=997\"),\n",
    "        '2020-01-01',\n",
    "        '2024-06-01'\n",
    "    ),\n",
    "    conn,\n",
    "    'staging',\n",
    "    'stg_yahoo_fin_btc_ticker_figures'\n",
    ")"
   ]
  }
 ],
 "metadata": {
  "kernelspec": {
   "display_name": "Python 3 (ipykernel)",
   "language": "python",
   "name": "python3"
  },
  "language_info": {
   "codemirror_mode": {
    "name": "ipython",
    "version": 3
   },
   "file_extension": ".py",
   "mimetype": "text/x-python",
   "name": "python",
   "nbconvert_exporter": "python",
   "pygments_lexer": "ipython3",
   "version": "3.11.5"
  }
 },
 "nbformat": 4,
 "nbformat_minor": 5
}
