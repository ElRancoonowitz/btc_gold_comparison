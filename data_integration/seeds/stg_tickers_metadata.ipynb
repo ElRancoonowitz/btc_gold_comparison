{
 "cells": [
  {
   "cell_type": "code",
   "execution_count": 11,
   "id": "2d1de610",
   "metadata": {},
   "outputs": [],
   "source": [
    "import pandas as pd\n",
    "import sqlalchemy"
   ]
  },
  {
   "cell_type": "code",
   "execution_count": 24,
   "id": "25fd62aa",
   "metadata": {},
   "outputs": [],
   "source": [
    "df_btc_tickers = pd.read_csv(\n",
    "        filepath_or_buffer='BTC_Tickers_Names_ETFS.csv',\n",
    "        sep=';'\n",
    ")"
   ]
  },
  {
   "cell_type": "code",
   "execution_count": 25,
   "id": "ffbab9fb",
   "metadata": {},
   "outputs": [],
   "source": [
    "df_gold_tickers = pd.read_csv(\n",
    "        filepath_or_buffer='GOLD_ETFS_NAMES.csv',\n",
    "        sep=';'\n",
    ")"
   ]
  },
  {
   "cell_type": "code",
   "execution_count": 26,
   "id": "35627c4c",
   "metadata": {},
   "outputs": [],
   "source": [
    "df_gold_tickers = pd.concat([df_gold_tickers, df_btc_tickers], ignore_index=True)"
   ]
  },
  {
   "cell_type": "code",
   "execution_count": 27,
   "id": "a55f5850",
   "metadata": {},
   "outputs": [],
   "source": [
    "def write_df_to_rds(df: pd.DataFrame, conn, schema, table_name):\n",
    "    \"\"\"\n",
    "        This function writes an incoming Pandas Dataframe to the RDS Database. \n",
    "        \n",
    "        parameters: \n",
    "            -df: incoming Pandas Dataframe\n",
    "            -conn: incoming SQL Alchemy engine object \n",
    "            -schema: table schema within the RDS database\n",
    "            -table_name: destination table name within the RDS database\n",
    "    \"\"\"\n",
    "    \n",
    "    df.to_sql(\n",
    "        name=table_name, \n",
    "        con=conn, \n",
    "        schema=schema,\n",
    "        if_exists='replace'\n",
    "    )"
   ]
  },
  {
   "cell_type": "code",
   "execution_count": 28,
   "id": "d7123ffc",
   "metadata": {},
   "outputs": [],
   "source": [
    "# Define static RDS connection credentials\n",
    "servername = 'NB-SMET-5CD3102PV6'\n",
    "dbname = 'syntra_dwh'\n",
    "conn = sqlalchemy.create_engine(\n",
    "    'mssql+pyodbc://@' + servername + '/' + dbname + '?trusted_connection=yes&driver=ODBC+Driver+17+for+SQL+Server'\n",
    ") \n",
    "\n",
    "write_df_to_rds(\n",
    "    df_gold_tickers,\n",
    "    conn,\n",
    "    'staging',\n",
    "    'stg_tickers_metadata'\n",
    ")"
   ]
  }
 ],
 "metadata": {
  "kernelspec": {
   "display_name": "Python 3 (ipykernel)",
   "language": "python",
   "name": "python3"
  },
  "language_info": {
   "codemirror_mode": {
    "name": "ipython",
    "version": 3
   },
   "file_extension": ".py",
   "mimetype": "text/x-python",
   "name": "python",
   "nbconvert_exporter": "python",
   "pygments_lexer": "ipython3",
   "version": "3.11.5"
  }
 },
 "nbformat": 4,
 "nbformat_minor": 5
}
