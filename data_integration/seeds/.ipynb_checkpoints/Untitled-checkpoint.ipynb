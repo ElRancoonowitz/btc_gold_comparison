{
 "cells": [
  {
   "cell_type": "code",
   "execution_count": 6,
   "id": "03182ecc",
   "metadata": {},
   "outputs": [],
   "source": [
    "import pandas as pd\n",
    "import sqlalchemy\n",
    "\n"
   ]
  },
  {
   "cell_type": "code",
   "execution_count": 7,
   "id": "0a8e3a76",
   "metadata": {},
   "outputs": [],
   "source": [
    "df_category = pd.read_csv(\n",
    "        filepath_or_buffer='Category.csv',\n",
    "        sep=';'\n",
    ")\n"
   ]
  },
  {
   "cell_type": "code",
   "execution_count": 8,
   "id": "c4ee8e27",
   "metadata": {},
   "outputs": [],
   "source": [
    "def write_df_to_rds(df: pd.DataFrame, conn, schema, table_name):\n",
    "    \"\"\"\n",
    "        This function writes an incoming Pandas Dataframe to the RDS Database. \n",
    "        \n",
    "        parameters: \n",
    "            -df: incoming Pandas Dataframe\n",
    "            -conn: incoming SQL Alchemy engine object \n",
    "            -schema: table schema within the RDS database\n",
    "            -table_name: destination table name within the RDS database\n",
    "    \"\"\"\n",
    "    \n",
    "    df.to_sql(\n",
    "        name=table_name, \n",
    "        con=conn, \n",
    "        schema=schema,\n",
    "        if_exists='replace'\n",
    "    )"
   ]
  },
  {
   "cell_type": "code",
   "execution_count": 9,
   "id": "84cf9184",
   "metadata": {},
   "outputs": [],
   "source": [
    "# Define static RDS connection credentials\n",
    "servername = 'NB-SMET-5CD3102PV6'\n",
    "dbname = 'syntra_dwh'\n",
    "conn = sqlalchemy.create_engine(\n",
    "    'mssql+pyodbc://@' + servername + '/' + dbname + '?trusted_connection=yes&driver=ODBC+Driver+17+for+SQL+Server'\n",
    ") \n",
    "\n",
    "write_df_to_rds(\n",
    "    df_category,\n",
    "    conn,\n",
    "    'staging',\n",
    "    'stg_category_metadata'\n",
    ")\n"
   ]
  },
  {
   "cell_type": "code",
   "execution_count": 10,
   "id": "5fdf3bd5",
   "metadata": {},
   "outputs": [
    {
     "name": "stdout",
     "output_type": "stream",
     "text": [
      "  Ticker         Ticker_name Category\n",
      "0    NaN                 NaN      NaN\n",
      "1    GLD    SPDR Gold Shares     Gold\n",
      "2    NaN                 NaN      NaN\n",
      "3    IAU  iShares Gold Trust     Gold\n",
      "4    NaN                 NaN      NaN\n",
      "<class 'pandas.core.frame.DataFrame'>\n",
      "RangeIndex: 101 entries, 0 to 100\n",
      "Data columns (total 3 columns):\n",
      " #   Column       Non-Null Count  Dtype \n",
      "---  ------       --------------  ----- \n",
      " 0   Ticker       50 non-null     object\n",
      " 1   Ticker_name  50 non-null     object\n",
      " 2   Category     50 non-null     object\n",
      "dtypes: object(3)\n",
      "memory usage: 2.5+ KB\n",
      "None\n"
     ]
    }
   ],
   "source": [
    "print(df_category.head())\n",
    "print(df_category.info())\n"
   ]
  },
  {
   "cell_type": "code",
   "execution_count": null,
   "id": "310db7a1",
   "metadata": {},
   "outputs": [],
   "source": []
  }
 ],
 "metadata": {
  "kernelspec": {
   "display_name": "Python 3 (ipykernel)",
   "language": "python",
   "name": "python3"
  },
  "language_info": {
   "codemirror_mode": {
    "name": "ipython",
    "version": 3
   },
   "file_extension": ".py",
   "mimetype": "text/x-python",
   "name": "python",
   "nbconvert_exporter": "python",
   "pygments_lexer": "ipython3",
   "version": "3.11.5"
  }
 },
 "nbformat": 4,
 "nbformat_minor": 5
}
